{
 "cells": [
  {
   "cell_type": "markdown",
   "id": "b9196d7f",
   "metadata": {},
   "source": [
    "# Генератор данных и действий пользователя\n",
    "Применяется только для тестирования системы.  \n",
    "Используются предзагруженная таблица данных о фильмах."
   ]
  },
  {
   "cell_type": "code",
   "execution_count": 1,
   "id": "820950ae",
   "metadata": {},
   "outputs": [],
   "source": [
    "import logging\n",
    "import random\n",
    "import time\n",
    "from datetime import datetime\n",
    "\n",
    "import requests\n",
    "from fake_useragent import UserAgent\n",
    "from faker import Faker\n",
    "from functools import wraps\n",
    "\n",
    "logger = logging.getLogger()\n",
    "logger.setLevel(logging.INFO)"
   ]
  },
  {
   "cell_type": "code",
   "execution_count": 2,
   "id": "822c7c61",
   "metadata": {},
   "outputs": [],
   "source": [
    "def backoff(\n",
    "    start_sleep_time: float = 0.2,\n",
    "    factor: int = 2,\n",
    "    border_sleep_time: int = 5,\n",
    "    max_count_sleep: int = 3,\n",
    "):\n",
    "    def wrapper(func):\n",
    "        @wraps(func)\n",
    "        def inner(*args, **kwargs):\n",
    "            sleep_time = start_sleep_time\n",
    "            sleep_iter = 0\n",
    "            while True:\n",
    "                try:\n",
    "                    res = func(*args, **kwargs)\n",
    "                    time.sleep(0.1)\n",
    "                    return res\n",
    "                except Exception as ex:\n",
    "                    logger.info(\n",
    "                        f\"Exception in {func.__qualname__}: \\n{ex}. \\n\"\n",
    "                        f\"Start sleeping for {sleep_time} seconds ({sleep_iter} iter)\"\n",
    "                    )\n",
    "                    time.sleep(sleep_time)\n",
    "\n",
    "                    sleep_iter += 1\n",
    "                    sleep_time *= factor\n",
    "\n",
    "                    if sleep_time >= border_sleep_time:\n",
    "                        sleep_time = border_sleep_time\n",
    "\n",
    "                    if sleep_iter >= max_count_sleep:\n",
    "                        raise ex\n",
    "\n",
    "        return inner\n",
    "\n",
    "    return wrapper"
   ]
  },
  {
   "cell_type": "code",
   "execution_count": 3,
   "id": "2472a608",
   "metadata": {},
   "outputs": [],
   "source": [
    "ALL_GENRES = [\n",
    "    \"Western\",\n",
    "    \"Adventure\",\n",
    "    \"Drama\",\n",
    "    \"Romance\",\n",
    "    \"Sport\",\n",
    "    \"Talk-Show\",\n",
    "    \"Action\",\n",
    "    \"Thriller\",\n",
    "    \"Comedy\",\n",
    "    \"Family\",\n",
    "    \"Music\",\n",
    "    \"Crime\",\n",
    "    \"Animation\",\n",
    "    \"Sci-Fi\",\n",
    "    \"Documentary\",\n",
    "    \"Musical\",\n",
    "    \"Short\",\n",
    "    \"Fantasy\",\n",
    "    \"War\",\n",
    "    \"Biography\",\n",
    "    \"Mystery\",\n",
    "    \"Reality-TV\",\n",
    "    \"History\",\n",
    "    \"News\",\n",
    "    \"Horror\",\n",
    "    \"Game-Show\",\n",
    "]"
   ]
  },
  {
   "cell_type": "code",
   "execution_count": 4,
   "id": "05b36cfe",
   "metadata": {},
   "outputs": [],
   "source": [
    "def generate_user(genres_count: int) -> dict:\n",
    "    fake = Faker()\n",
    "    profile = fake.profile()\n",
    "    return {\n",
    "        \"login\": profile[\"username\"],\n",
    "        \"email\": profile[\"mail\"],\n",
    "        \"password\": fake.password(length=10),\n",
    "        \"first_name\": profile[\"name\"].split()[0],\n",
    "        \"last_name\": profile[\"name\"].split()[1],\n",
    "        \"country\": fake.country(),\n",
    "        \"city\": fake.city(),\n",
    "        \"age\": str(datetime.combine(profile[\"birthdate\"], datetime.min.time())),\n",
    "        \"genres\": random.sample(ALL_GENRES, k=genres_count),\n",
    "    }\n",
    "\n",
    "\n",
    "def get_short_profile_dict_by_fields(profile: dict, fields: list[str]) -> dict:\n",
    "    return {key: value for key, value in profile.items() if key in fields}"
   ]
  },
  {
   "cell_type": "code",
   "execution_count": 5,
   "id": "febb4f41",
   "metadata": {},
   "outputs": [
    {
     "data": {
      "text/plain": [
       "{'login': 'ksmith',\n",
       " 'email': 'joshua01@hotmail.com',\n",
       " 'password': '^6HA4xzvZM',\n",
       " 'first_name': 'Sandra',\n",
       " 'last_name': 'Vega',\n",
       " 'country': 'Malaysia',\n",
       " 'city': 'Port Ashley',\n",
       " 'age': '1982-04-18 00:00:00',\n",
       " 'genres': ['Comedy',\n",
       "  'Sci-Fi',\n",
       "  'Documentary',\n",
       "  'Music',\n",
       "  'Horror',\n",
       "  'Drama',\n",
       "  'Short',\n",
       "  'History',\n",
       "  'Western',\n",
       "  'Biography']}"
      ]
     },
     "execution_count": 5,
     "metadata": {},
     "output_type": "execute_result"
    }
   ],
   "source": [
    "generate_user(random.randint(0, len(ALL_GENRES) / 2))"
   ]
  },
  {
   "cell_type": "code",
   "execution_count": 6,
   "id": "5860e1de",
   "metadata": {},
   "outputs": [],
   "source": [
    "class GeneratorException(Exception):\n",
    "    def __init__(self, msg):\n",
    "        self.msg = msg"
   ]
  },
  {
   "cell_type": "code",
   "execution_count": 7,
   "id": "0c3952f6",
   "metadata": {},
   "outputs": [],
   "source": [
    "user_agent = UserAgent()\n",
    "\n",
    "\n",
    "def create_headers(token: str | None = None):\n",
    "    headers = {\n",
    "        \"Content-type\": \"application/json\",\n",
    "        \"Accept\": \"application/json\",\n",
    "        \"User-Agent\": user_agent.random,\n",
    "        \"X-Request-Id\": \"request_id_00000000\",\n",
    "    }\n",
    "    if token:\n",
    "        headers[\"Authorization\"] = f\"Bearer {token}\"\n",
    "    return headers"
   ]
  },
  {
   "cell_type": "code",
   "execution_count": 8,
   "id": "f59d13af",
   "metadata": {},
   "outputs": [],
   "source": [
    "@backoff()\n",
    "def signup(headers: dict, user_data: dict):\n",
    "    response = requests.post(\n",
    "        \"http://localhost:80/api/v1/signup\",\n",
    "        json=get_short_profile_dict_by_fields(user_data, [\"login\", \"email\", \"password\"]),\n",
    "        headers=headers,\n",
    "    )\n",
    "    response.raise_for_status()\n",
    "    if not response.json()[\"success\"]:\n",
    "        raise GeneratorException(f\"Ошибка создания пользователя {user_data}\")\n",
    "\n",
    "    logging.info(f\"Создан пользователь {user_data['login']}\")\n",
    "\n",
    "\n",
    "@backoff()\n",
    "def signin(headers: dict, user_data: dict) -> str:\n",
    "    response = requests.post(\n",
    "        \"http://localhost:80/api/v1/signin\",\n",
    "        json=get_short_profile_dict_by_fields(user_data, [\"login\", \"password\"]),\n",
    "        headers=headers,\n",
    "    )\n",
    "    response.raise_for_status()\n",
    "    if not response.json().get(\"data\", {}).get(\"access_token\"):\n",
    "        raise GeneratorException(f\"Ошибка получения токена для пользователя {user_data}\")\n",
    "\n",
    "    logging.info(\n",
    "        f\"Выполнен вход в учетную запись для пользователя {user_data['login']}, токен: {response.json()['data']['access_token']}\"\n",
    "    )\n",
    "    return response.json()[\"data\"][\"access_token\"]\n",
    "\n",
    "\n",
    "def signup_signin(user_data: dict) -> str:\n",
    "    \"\"\"\n",
    "    Функция создает аккаунт в сервисе auth, логинится и возвращает access токен\n",
    "    \"\"\"\n",
    "    headers = create_headers()\n",
    "    try:\n",
    "        signup(headers, user_data)\n",
    "    except Exception:\n",
    "        logging.exception(\"Ошибка создания пользователя\")\n",
    "\n",
    "    try:\n",
    "        token = signin(headers, user_data)\n",
    "    except Exception:\n",
    "        raise GeneratorException(f\"Ошибка получения токена для пользователя\")\n",
    "\n",
    "    return token"
   ]
  },
  {
   "cell_type": "code",
   "execution_count": 9,
   "id": "06002bc5",
   "metadata": {},
   "outputs": [],
   "source": [
    "# user_data = generate_user(random.randint(1, 5))\n",
    "# token = signup_signin(user_data)\n",
    "# create_profile_with_genres(user_data, token)"
   ]
  },
  {
   "cell_type": "code",
   "execution_count": 10,
   "id": "26681c1f",
   "metadata": {},
   "outputs": [],
   "source": [
    "@backoff()\n",
    "def create_profile(headers: dict, user_data: dict):\n",
    "    response = requests.post(\n",
    "        \"http://localhost:80/api/v1/user_profile/register_user_profile\",\n",
    "        json=get_short_profile_dict_by_fields(\n",
    "            user_data, [\"first_name\", \"last_name\", \"country\", \"city\", \"age\"]\n",
    "        ),\n",
    "        headers=headers,\n",
    "    )\n",
    "    response.raise_for_status()\n",
    "\n",
    "\n",
    "@backoff()\n",
    "def create_profile_genre(headers: dict, user_data: dict, genre: str):\n",
    "    response = requests.post(\n",
    "        \"http://localhost:80/api/v1/user_profile/register_user_genre\",\n",
    "        json={\"name\": genre},\n",
    "        headers=headers,\n",
    "    )\n",
    "    response.raise_for_status()\n",
    "\n",
    "\n",
    "def create_profile_with_genres(user_data: dict, token: str):\n",
    "    \"\"\"\n",
    "    Функция создает профиль пользователя в сервисе user_profile\n",
    "    \"\"\"\n",
    "    headers = create_headers(token)\n",
    "    try:\n",
    "        create_profile(headers, user_data)\n",
    "    except Exception:\n",
    "        logging.exception(f\"Ошибка создания профиля пользователя {user_data}\")\n",
    "\n",
    "    for genre in user_data[\"genres\"]:\n",
    "        try:\n",
    "            create_profile_genre(headers, user_data, genre)\n",
    "        except Exception:\n",
    "            logging.exception(f\"Ошибка добавления жанра к профилю пользователя {user_data}\")\n",
    "\n",
    "    logging.info(\n",
    "        f\"Создан профиль для пользователя {user_data['login']} с жанрами: {user_data['genres']}\"\n",
    "    )"
   ]
  },
  {
   "cell_type": "code",
   "execution_count": 11,
   "id": "9a7a3a10",
   "metadata": {},
   "outputs": [],
   "source": [
    "def get_all_movies_ids_list() -> list[str]:\n",
    "    \"\"\"\n",
    "    Функция возвращает список идентификаторов всех фильмов\n",
    "    \"\"\"\n",
    "    headers = create_headers()\n",
    "    movies_ids = []\n",
    "    page = 1\n",
    "    try:\n",
    "        while page < 1000:\n",
    "            response = requests.get(\n",
    "                \"http://localhost:80/api/v1/movies/films/\",\n",
    "                params=dict(page_number=page, page_size=50),\n",
    "                headers=headers,\n",
    "            )\n",
    "            response.raise_for_status()\n",
    "            response = [movie[\"id\"] for movie in response.json()]\n",
    "            if len(response) == 0:\n",
    "                break\n",
    "            movies_ids.extend(response)\n",
    "            page += 1\n",
    "    except Exception:\n",
    "        logging.exception(f\"Ошибка получения списка фильмов\")\n",
    "    return movies_ids"
   ]
  },
  {
   "cell_type": "code",
   "execution_count": 12,
   "id": "c8b423ca",
   "metadata": {},
   "outputs": [],
   "source": [
    "@backoff()\n",
    "def register_rating(headers: dict, movie_id: str):\n",
    "    response = requests.put(\n",
    "        \"http://localhost:80/api/v1/ugc/register_rating\",\n",
    "        json={\n",
    "            \"movie_id\": movie_id,\n",
    "            \"rating\": random.randint(1, 10),\n",
    "            \"created\": str(datetime.now()),\n",
    "        },\n",
    "        headers=headers,\n",
    "    )\n",
    "    response.raise_for_status()\n",
    "\n",
    "\n",
    "@backoff()\n",
    "def register_review(headers: dict, movie_id: str):\n",
    "    response = requests.put(\n",
    "        \"http://localhost:80/api/v1/ugc/register_review\",\n",
    "        json={\n",
    "            \"movie_id\": movie_id,\n",
    "            \"summary\": \"summary\",\n",
    "            \"description\": \"description\",\n",
    "            # score по вероятности 0.5\n",
    "            \"score\": (\"positive\", \"negative\")[bool(random.getrandbits(1))],\n",
    "            \"created\": str(datetime.now()),\n",
    "        },\n",
    "        headers=headers,\n",
    "    )\n",
    "    response.raise_for_status()\n",
    "\n",
    "\n",
    "def create_ratings_and_reviews(token: str, movies_ids: list[str], review_probability: float):\n",
    "    \"\"\"\n",
    "    Функция создет ugc для фильмов: рейтинги, отзывы\n",
    "    \"\"\"\n",
    "    headers = create_headers(token)\n",
    "    reviews_count = 0\n",
    "\n",
    "    for movie_id in movies_ids:\n",
    "        try:\n",
    "            register_rating(headers, movie_id)\n",
    "        except Exception:\n",
    "            logging.exception(f\"Ошибка регистрации рейтинга\")\n",
    "\n",
    "        if random.random() < review_probability:\n",
    "            try:\n",
    "                register_review(headers, movie_id)\n",
    "            except Exception:\n",
    "                logging.exception(f\"Ошибка регистрации отзыва\")\n",
    "\n",
    "            reviews_count += 1\n",
    "\n",
    "    logging.info(\n",
    "        f\"Создано {len(movies_ids)} оценок и {reviews_count} отзывов для фильмов по токену {token}\"\n",
    "    )"
   ]
  },
  {
   "cell_type": "code",
   "execution_count": 13,
   "id": "a7507c67",
   "metadata": {},
   "outputs": [],
   "source": [
    "@backoff()\n",
    "def create_bookmark(headers: dict, token: str, movie_id: str):\n",
    "    response = requests.put(\n",
    "        \"http://localhost:80/api/v1/ugc/register_bookmark\",\n",
    "        json={\n",
    "            \"movie_id\": movie_id,\n",
    "            \"action\": \"add\",\n",
    "            \"created\": str(datetime.now()),\n",
    "        },\n",
    "        headers=headers,\n",
    "    )\n",
    "    response.raise_for_status()\n",
    "\n",
    "\n",
    "def create_bookmarks(token: str, movies_ids: list[str]):\n",
    "    \"\"\"\n",
    "    Функция создет ugc для фильмов: закладки\n",
    "    \"\"\"\n",
    "    headers = create_headers(token)\n",
    "    for movie_id in movies_ids:\n",
    "        try:\n",
    "            create_bookmark(headers, token, movie_id)\n",
    "        except Exception:\n",
    "            logging.exception(f\"Ошибка при создании закладки\")\n",
    "\n",
    "    logging.info(f\"Создано {len(movies_ids)} закладок фильмов по токену {token}\")"
   ]
  },
  {
   "cell_type": "code",
   "execution_count": 14,
   "id": "228ae1f8",
   "metadata": {},
   "outputs": [],
   "source": [
    "@backoff()\n",
    "def create_movie_progress(headers: dict, token: str, movie_id: str):\n",
    "    response = requests.put(\n",
    "        \"http://localhost:80/api/v1/ugc/register_movie_progress\",\n",
    "        json={\n",
    "            \"movie_id\": movie_id,\n",
    "            \"progress\": random.random() * 120,\n",
    "            \"created\": str(datetime.now()),\n",
    "        },\n",
    "        headers=headers,\n",
    "    )\n",
    "    response.raise_for_status()\n",
    "\n",
    "\n",
    "def create_movies_progress(token: str, movies_ids: list[str]):\n",
    "    \"\"\"\n",
    "    Функция создет ugc для фильмов: продолжительность просмотра фильма\n",
    "    \"\"\"\n",
    "    headers = create_headers(token)\n",
    "    for movie_id in movies_ids:\n",
    "        try:\n",
    "            create_movie_progress(headers, token, movie_id)\n",
    "        except Exception:\n",
    "            logging.exception(f\"Ошибка при создании просмотра\")\n",
    "\n",
    "    logging.info(f\"Созданы просмотры по {len(movies_ids)} фильмам по токену {token}\")"
   ]
  },
  {
   "cell_type": "markdown",
   "id": "c9be0119",
   "metadata": {},
   "source": [
    "Создание N пользователей с профилем и ugc"
   ]
  },
  {
   "cell_type": "code",
   "execution_count": 15,
   "id": "77700f8f",
   "metadata": {},
   "outputs": [],
   "source": [
    "# N_USERS = 1000\n",
    "\n",
    "# all_movies_ids = get_all_movies_ids_list()\n",
    "\n",
    "# for i in range(N_USERS):\n",
    "#     logging.info(f\"Пользователь {i}\")\n",
    "#     user_data = generate_user(random.randint(1, 5))\n",
    "#     try:\n",
    "#         token = signup_signin(user_data)\n",
    "#     except GeneratorException:\n",
    "#         continue\n",
    "\n",
    "#     create_profile_with_genres(user_data, token)\n",
    "\n",
    "#     watched_movies = random.sample(all_movies_ids, k=random.randint(20, 100))\n",
    "#     create_movies_progress(token, watched_movies)\n",
    "\n",
    "#     rated_movies = random.sample(watched_movies, k=random.randint(20, len(watched_movies)))\n",
    "#     create_ratings_and_reviews(token, rated_movies, review_probability=0.2)\n",
    "\n",
    "#     movies_in_bookmarks = list(\n",
    "#         set(random.sample(watched_movies, k=random.randint(10, int(len(watched_movies) / 2))))\n",
    "#         | set(random.sample(all_movies_ids, k=random.randint(0, 40)))\n",
    "#     )\n",
    "#     create_bookmarks(token, movies_in_bookmarks)"
   ]
  },
  {
   "cell_type": "markdown",
   "id": "989f0802",
   "metadata": {},
   "source": [
    "### Получить дамп заполненных баз:  \n",
    "\n",
    "docker-compose exec -T db-auth pg_dump auth_db -U app > auth_database.sql  \n",
    "\n",
    "docker-compose exec -T db-user-profile pg_dump user_profile_database -U admin > user_profile_database.sql  \n",
    "\n",
    "docker-compose exec -T mongo mongodump --db ugc --gzip --archive=ugc_database.gz  \n",
    "docker cp mongo:/ugc_database.gz .  \n",
    "\n",
    "docker-compose exec redis-user-data redis-cli save  \n",
    "docker cp redis-user-data:/data/dump.rdb ./redis_user_database.rdb  \n",
    "\n",
    "Необходимо перенести их в директорию db_dumps"
   ]
  },
  {
   "cell_type": "markdown",
   "id": "4397f119",
   "metadata": {},
   "source": [
    "### Подготовка пользователя для демонстрации работы системы рекомендаций"
   ]
  },
  {
   "cell_type": "markdown",
   "id": "9f245c72",
   "metadata": {},
   "source": [
    "Создаем данные пользователя с помощью библиотеки faker"
   ]
  },
  {
   "cell_type": "code",
   "execution_count": 16,
   "id": "b508b77c",
   "metadata": {},
   "outputs": [],
   "source": [
    "user_data = generate_user(random.randint(1, 5))"
   ]
  },
  {
   "cell_type": "code",
   "execution_count": 17,
   "id": "df8dda39",
   "metadata": {},
   "outputs": [
    {
     "data": {
      "text/plain": [
       "{'login': 'georgescott',\n",
       " 'email': 'xcarson@hotmail.com',\n",
       " 'password': '*8fDtfpR$2',\n",
       " 'first_name': 'Tara',\n",
       " 'last_name': 'Bradley',\n",
       " 'country': 'Saint Barthelemy',\n",
       " 'city': 'Thomasmouth',\n",
       " 'age': '1995-09-07 00:00:00',\n",
       " 'genres': ['Musical', 'History', 'Sci-Fi', 'Fantasy']}"
      ]
     },
     "execution_count": 17,
     "metadata": {},
     "output_type": "execute_result"
    }
   ],
   "source": [
    "user_data"
   ]
  },
  {
   "cell_type": "markdown",
   "id": "185a2501",
   "metadata": {},
   "source": [
    "Создание пользователя в Auth"
   ]
  },
  {
   "cell_type": "code",
   "execution_count": 18,
   "id": "2215867d",
   "metadata": {},
   "outputs": [
    {
     "name": "stderr",
     "output_type": "stream",
     "text": [
      "INFO:root:Создан пользователь georgescott\n",
      "INFO:root:Выполнен вход в учетную запись для пользователя georgescott, токен: eyJhbGciOiJIUzI1NiIsInR5cCI6IkpXVCJ9.eyJmcmVzaCI6ZmFsc2UsImlhdCI6MTY5NTY2NzM3MywianRpIjoiNGI2NWVmOGYtODNhYi00MDkzLTgyOTktMTVmNTJkMDIxMzdiIiwidHlwZSI6ImFjY2VzcyIsInN1YiI6eyJpZCI6ImE4NDc2NDFmLWY5ODItNGU1MS1hYjJmLWI3MjZmNGZhN2M0NiIsImRldmljZV9pbmZvIjoiTW96aWxsYS81LjAgKFgxMTsgTGludXggeDg2XzY0OyBydjoxMDkuMCkgR2Vja28vMjAxMDAxMDEgRmlyZWZveC8xMTQuMCIsImlzX2FjdGl2ZSI6IlRydWUiLCJpc192ZXJpZmllZCI6IkZhbHNlIiwiaXNfYWRtaW4iOiJGYWxzZSIsInJvbGVzIjpbImRlZmF1bHQiXX0sIm5iZiI6MTY5NTY2NzM3MywiY3NyZiI6IjIzMmExMzU3LTE3ZTktNDI3Mi1iNmNmLTIyNDNkYzU2NzExMSIsImV4cCI6MTY5NTY3MDk3M30.2RUrhty0SRqOlrSVPEsuDBA1TMSX-gJlwM0xCZhRyms\n"
     ]
    }
   ],
   "source": [
    "token = signup_signin(user_data)"
   ]
  },
  {
   "cell_type": "code",
   "execution_count": 19,
   "id": "de877b94",
   "metadata": {},
   "outputs": [
    {
     "data": {
      "text/plain": [
       "'eyJhbGciOiJIUzI1NiIsInR5cCI6IkpXVCJ9.eyJmcmVzaCI6ZmFsc2UsImlhdCI6MTY5NTY2NzM3MywianRpIjoiNGI2NWVmOGYtODNhYi00MDkzLTgyOTktMTVmNTJkMDIxMzdiIiwidHlwZSI6ImFjY2VzcyIsInN1YiI6eyJpZCI6ImE4NDc2NDFmLWY5ODItNGU1MS1hYjJmLWI3MjZmNGZhN2M0NiIsImRldmljZV9pbmZvIjoiTW96aWxsYS81LjAgKFgxMTsgTGludXggeDg2XzY0OyBydjoxMDkuMCkgR2Vja28vMjAxMDAxMDEgRmlyZWZveC8xMTQuMCIsImlzX2FjdGl2ZSI6IlRydWUiLCJpc192ZXJpZmllZCI6IkZhbHNlIiwiaXNfYWRtaW4iOiJGYWxzZSIsInJvbGVzIjpbImRlZmF1bHQiXX0sIm5iZiI6MTY5NTY2NzM3MywiY3NyZiI6IjIzMmExMzU3LTE3ZTktNDI3Mi1iNmNmLTIyNDNkYzU2NzExMSIsImV4cCI6MTY5NTY3MDk3M30.2RUrhty0SRqOlrSVPEsuDBA1TMSX-gJlwM0xCZhRyms'"
      ]
     },
     "execution_count": 19,
     "metadata": {},
     "output_type": "execute_result"
    }
   ],
   "source": [
    "token"
   ]
  },
  {
   "cell_type": "markdown",
   "id": "53f45a57",
   "metadata": {},
   "source": [
    "Создание профиля пользователя"
   ]
  },
  {
   "cell_type": "code",
   "execution_count": 20,
   "id": "e2772c25",
   "metadata": {},
   "outputs": [
    {
     "name": "stderr",
     "output_type": "stream",
     "text": [
      "INFO:root:Создан профиль для пользователя georgescott с жанрами: ['Musical', 'History', 'Sci-Fi', 'Fantasy']\n"
     ]
    }
   ],
   "source": [
    "create_profile_with_genres(user_data, token)"
   ]
  },
  {
   "cell_type": "markdown",
   "id": "3203f7e5",
   "metadata": {},
   "source": [
    "Получение всего доступного списка фильмов"
   ]
  },
  {
   "cell_type": "code",
   "execution_count": 22,
   "id": "92ec1d29",
   "metadata": {},
   "outputs": [],
   "source": [
    "all_movies_ids = get_all_movies_ids_list()"
   ]
  },
  {
   "cell_type": "markdown",
   "id": "2ac99fd1",
   "metadata": {},
   "source": [
    "Создание просмотров фильмов"
   ]
  },
  {
   "cell_type": "code",
   "execution_count": 23,
   "id": "22231442",
   "metadata": {},
   "outputs": [
    {
     "name": "stderr",
     "output_type": "stream",
     "text": [
      "INFO:root:Созданы просмотры по 40 фильмам по токену eyJhbGciOiJIUzI1NiIsInR5cCI6IkpXVCJ9.eyJmcmVzaCI6ZmFsc2UsImlhdCI6MTY5NTY2NzM3MywianRpIjoiNGI2NWVmOGYtODNhYi00MDkzLTgyOTktMTVmNTJkMDIxMzdiIiwidHlwZSI6ImFjY2VzcyIsInN1YiI6eyJpZCI6ImE4NDc2NDFmLWY5ODItNGU1MS1hYjJmLWI3MjZmNGZhN2M0NiIsImRldmljZV9pbmZvIjoiTW96aWxsYS81LjAgKFgxMTsgTGludXggeDg2XzY0OyBydjoxMDkuMCkgR2Vja28vMjAxMDAxMDEgRmlyZWZveC8xMTQuMCIsImlzX2FjdGl2ZSI6IlRydWUiLCJpc192ZXJpZmllZCI6IkZhbHNlIiwiaXNfYWRtaW4iOiJGYWxzZSIsInJvbGVzIjpbImRlZmF1bHQiXX0sIm5iZiI6MTY5NTY2NzM3MywiY3NyZiI6IjIzMmExMzU3LTE3ZTktNDI3Mi1iNmNmLTIyNDNkYzU2NzExMSIsImV4cCI6MTY5NTY3MDk3M30.2RUrhty0SRqOlrSVPEsuDBA1TMSX-gJlwM0xCZhRyms\n"
     ]
    }
   ],
   "source": [
    "watched_movies = random.sample(all_movies_ids, k=random.randint(10, 50))\n",
    "create_movies_progress(token, watched_movies)"
   ]
  },
  {
   "cell_type": "markdown",
   "id": "0bbdf670",
   "metadata": {},
   "source": [
    "Создание рейтингов и отзывов к фильмам"
   ]
  },
  {
   "cell_type": "code",
   "execution_count": 24,
   "id": "5548315d",
   "metadata": {},
   "outputs": [
    {
     "name": "stderr",
     "output_type": "stream",
     "text": [
      "INFO:root:Создано 24 оценок и 2 отзывов для фильмов по токену eyJhbGciOiJIUzI1NiIsInR5cCI6IkpXVCJ9.eyJmcmVzaCI6ZmFsc2UsImlhdCI6MTY5NTY2NzM3MywianRpIjoiNGI2NWVmOGYtODNhYi00MDkzLTgyOTktMTVmNTJkMDIxMzdiIiwidHlwZSI6ImFjY2VzcyIsInN1YiI6eyJpZCI6ImE4NDc2NDFmLWY5ODItNGU1MS1hYjJmLWI3MjZmNGZhN2M0NiIsImRldmljZV9pbmZvIjoiTW96aWxsYS81LjAgKFgxMTsgTGludXggeDg2XzY0OyBydjoxMDkuMCkgR2Vja28vMjAxMDAxMDEgRmlyZWZveC8xMTQuMCIsImlzX2FjdGl2ZSI6IlRydWUiLCJpc192ZXJpZmllZCI6IkZhbHNlIiwiaXNfYWRtaW4iOiJGYWxzZSIsInJvbGVzIjpbImRlZmF1bHQiXX0sIm5iZiI6MTY5NTY2NzM3MywiY3NyZiI6IjIzMmExMzU3LTE3ZTktNDI3Mi1iNmNmLTIyNDNkYzU2NzExMSIsImV4cCI6MTY5NTY3MDk3M30.2RUrhty0SRqOlrSVPEsuDBA1TMSX-gJlwM0xCZhRyms\n"
     ]
    }
   ],
   "source": [
    "rated_movies = random.sample(watched_movies, k=random.randint(20, len(watched_movies)))\n",
    "create_ratings_and_reviews(token, rated_movies, review_probability=0.2)"
   ]
  },
  {
   "cell_type": "markdown",
   "id": "90413a32",
   "metadata": {},
   "source": [
    "Создание закладок"
   ]
  },
  {
   "cell_type": "code",
   "execution_count": 25,
   "id": "69f8792d",
   "metadata": {},
   "outputs": [
    {
     "name": "stderr",
     "output_type": "stream",
     "text": [
      "INFO:root:Создано 39 закладок фильмов по токену eyJhbGciOiJIUzI1NiIsInR5cCI6IkpXVCJ9.eyJmcmVzaCI6ZmFsc2UsImlhdCI6MTY5NTY2NzM3MywianRpIjoiNGI2NWVmOGYtODNhYi00MDkzLTgyOTktMTVmNTJkMDIxMzdiIiwidHlwZSI6ImFjY2VzcyIsInN1YiI6eyJpZCI6ImE4NDc2NDFmLWY5ODItNGU1MS1hYjJmLWI3MjZmNGZhN2M0NiIsImRldmljZV9pbmZvIjoiTW96aWxsYS81LjAgKFgxMTsgTGludXggeDg2XzY0OyBydjoxMDkuMCkgR2Vja28vMjAxMDAxMDEgRmlyZWZveC8xMTQuMCIsImlzX2FjdGl2ZSI6IlRydWUiLCJpc192ZXJpZmllZCI6IkZhbHNlIiwiaXNfYWRtaW4iOiJGYWxzZSIsInJvbGVzIjpbImRlZmF1bHQiXX0sIm5iZiI6MTY5NTY2NzM3MywiY3NyZiI6IjIzMmExMzU3LTE3ZTktNDI3Mi1iNmNmLTIyNDNkYzU2NzExMSIsImV4cCI6MTY5NTY3MDk3M30.2RUrhty0SRqOlrSVPEsuDBA1TMSX-gJlwM0xCZhRyms\n"
     ]
    }
   ],
   "source": [
    "movies_in_bookmarks = list(\n",
    "    set(random.sample(watched_movies, k=random.randint(10, int(len(watched_movies) / 2))))\n",
    "    | set(random.sample(all_movies_ids, k=random.randint(0, 40)))\n",
    ")\n",
    "create_bookmarks(token, movies_in_bookmarks)"
   ]
  },
  {
   "cell_type": "code",
   "execution_count": null,
   "id": "a88b22d0",
   "metadata": {},
   "outputs": [],
   "source": []
  }
 ],
 "metadata": {
  "kernelspec": {
   "display_name": "Python 3",
   "language": "python",
   "name": "python3"
  },
  "language_info": {
   "codemirror_mode": {
    "name": "ipython",
    "version": 3
   },
   "file_extension": ".py",
   "mimetype": "text/x-python",
   "name": "python",
   "nbconvert_exporter": "python",
   "pygments_lexer": "ipython3",
   "version": "3.10.11"
  }
 },
 "nbformat": 4,
 "nbformat_minor": 5
}
